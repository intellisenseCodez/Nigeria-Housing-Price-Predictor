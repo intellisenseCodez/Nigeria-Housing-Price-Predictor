{
 "cells": [
  {
   "cell_type": "markdown",
   "id": "8f38dadd-a137-48ae-8ff7-8551866c32ac",
   "metadata": {},
   "source": [
    "# Nigeria Property Housing Price Prediction Using Machine Learning"
   ]
  },
  {
   "cell_type": "code",
   "execution_count": 70,
   "id": "a8e810b2-fd42-4317-a805-ba0513771cab",
   "metadata": {},
   "outputs": [],
   "source": [
    "# import libraries for inspection, data cleaning and visualization\n",
    "import numpy as np\n",
    "import pandas as pd\n",
    "import matplotlib.pyplot as plt\n",
    "import seaborn as sns\n",
    "\n",
    "# import libraries for preprocessing, regression models etc\n",
    "from sklearn.model_selection import train_test_split\n",
    "from sklearn.preprocessing import OneHotEncoder, StandardScaler\n",
    "from sklearn.compose import ColumnTransformer\n",
    "from sklearn.pipeline import Pipeline\n",
    "from sklearn.linear_model import LinearRegression, Ridge, Lasso\n",
    "from sklearn.ensemble import RandomForestRegressor, GradientBoostingRegressor\n",
    "from sklearn.tree import DecisionTreeRegressor\n",
    "from xgboost import XGBRegressor\n",
    "\n",
    "# import evaluation metrics\n",
    "from sklearn.metrics import r2_score\n",
    "\n",
    "# import pickle for saving and loading model\n",
    "import pickle\n",
    "import joblib \n"
   ]
  },
  {
   "cell_type": "code",
   "execution_count": 71,
   "id": "67028903-7b2f-455d-a5a3-16d0bf00004f",
   "metadata": {},
   "outputs": [
    {
     "data": {
      "text/html": [
       "<div>\n",
       "<style scoped>\n",
       "    .dataframe tbody tr th:only-of-type {\n",
       "        vertical-align: middle;\n",
       "    }\n",
       "\n",
       "    .dataframe tbody tr th {\n",
       "        vertical-align: top;\n",
       "    }\n",
       "\n",
       "    .dataframe thead th {\n",
       "        text-align: right;\n",
       "    }\n",
       "</style>\n",
       "<table border=\"1\" class=\"dataframe\">\n",
       "  <thead>\n",
       "    <tr style=\"text-align: right;\">\n",
       "      <th></th>\n",
       "      <th>title</th>\n",
       "      <th>type</th>\n",
       "      <th>address</th>\n",
       "      <th>description</th>\n",
       "      <th>price</th>\n",
       "      <th>bedrooms</th>\n",
       "      <th>bathrooms</th>\n",
       "      <th>toilets</th>\n",
       "      <th>parking_spaces</th>\n",
       "      <th>location</th>\n",
       "    </tr>\n",
       "  </thead>\n",
       "  <tbody>\n",
       "    <tr>\n",
       "      <th>0</th>\n",
       "      <td>3 Bedroom Apartment In Ologolo</td>\n",
       "      <td>flat / apartment</td>\n",
       "      <td>Ologolo, Lekki, Lagos</td>\n",
       "      <td>Self serviced\\n3bedroom fr rent in ologolo\\nre...</td>\n",
       "      <td>3500000.0</td>\n",
       "      <td>3</td>\n",
       "      <td>3</td>\n",
       "      <td>3</td>\n",
       "      <td>0</td>\n",
       "      <td>Lekki</td>\n",
       "    </tr>\n",
       "    <tr>\n",
       "      <th>1</th>\n",
       "      <td>Luxury 2 Bedroom Apartment</td>\n",
       "      <td>flat / apartment</td>\n",
       "      <td>Newtown Estate, Ogombo, Ajah, Lagos</td>\n",
       "      <td>Brand new\\ngood water\\nluxury home\\nfitted kit...</td>\n",
       "      <td>1300000.0</td>\n",
       "      <td>2</td>\n",
       "      <td>2</td>\n",
       "      <td>3</td>\n",
       "      <td>2</td>\n",
       "      <td>Ajah</td>\n",
       "    </tr>\n",
       "    <tr>\n",
       "      <th>2</th>\n",
       "      <td>Well Maintained 5 Bedroom Detached Duplex With Bq</td>\n",
       "      <td>detached duplex</td>\n",
       "      <td>Lekki Phase 1, Lekki, Lagos</td>\n",
       "      <td>Well maintained 5 bedroom detached duplex with...</td>\n",
       "      <td>20000000.0</td>\n",
       "      <td>5</td>\n",
       "      <td>5</td>\n",
       "      <td>6</td>\n",
       "      <td>3</td>\n",
       "      <td>Lekki</td>\n",
       "    </tr>\n",
       "    <tr>\n",
       "      <th>3</th>\n",
       "      <td>Refurbished 3 Bedroom Luxury Flat With Bq</td>\n",
       "      <td>flat / apartment</td>\n",
       "      <td>Lekki Phase 1, Lekki, Lagos</td>\n",
       "      <td>Refurbished 3 bedroom luxury flats with bq ava...</td>\n",
       "      <td>8500000.0</td>\n",
       "      <td>3</td>\n",
       "      <td>3</td>\n",
       "      <td>3</td>\n",
       "      <td>3</td>\n",
       "      <td>Lekki</td>\n",
       "    </tr>\n",
       "    <tr>\n",
       "      <th>4</th>\n",
       "      <td>Slick 2 Bedroom Apartment In Ologolo</td>\n",
       "      <td>flat / apartment</td>\n",
       "      <td>Ologolo, Lekki, Lagos</td>\n",
       "      <td>2 bedroom apartmemt for rent\\nrent 2.8m\\nservi...</td>\n",
       "      <td>2800000.0</td>\n",
       "      <td>2</td>\n",
       "      <td>2</td>\n",
       "      <td>3</td>\n",
       "      <td>2</td>\n",
       "      <td>Lekki</td>\n",
       "    </tr>\n",
       "    <tr>\n",
       "      <th>...</th>\n",
       "      <td>...</td>\n",
       "      <td>...</td>\n",
       "      <td>...</td>\n",
       "      <td>...</td>\n",
       "      <td>...</td>\n",
       "      <td>...</td>\n",
       "      <td>...</td>\n",
       "      <td>...</td>\n",
       "      <td>...</td>\n",
       "      <td>...</td>\n",
       "    </tr>\n",
       "    <tr>\n",
       "      <th>21589</th>\n",
       "      <td>A Fully Furnished 4 Bedroom Semi-detached Duplex</td>\n",
       "      <td>semi-detached duplex</td>\n",
       "      <td>Spg Road, Igbo-efon, Lekki, Lagos</td>\n",
       "      <td>A fully furnished 4 bedroom semi-detached dupl...</td>\n",
       "      <td>4000000.0</td>\n",
       "      <td>4</td>\n",
       "      <td>4</td>\n",
       "      <td>5</td>\n",
       "      <td>3</td>\n",
       "      <td>Lekki</td>\n",
       "    </tr>\n",
       "    <tr>\n",
       "      <th>21590</th>\n",
       "      <td>Furnished 3 Bedroom Flat</td>\n",
       "      <td>flat / apartment</td>\n",
       "      <td>Coral Beach Estate, Lekki Free Trade Zone, Lek...</td>\n",
       "      <td>Furnished 3 bedroom apartment at coral beach e...</td>\n",
       "      <td>6000000.0</td>\n",
       "      <td>3</td>\n",
       "      <td>4</td>\n",
       "      <td>4</td>\n",
       "      <td>0</td>\n",
       "      <td>Lekki</td>\n",
       "    </tr>\n",
       "    <tr>\n",
       "      <th>21591</th>\n",
       "      <td>Executive All Rooms En-suite 3 Bedroom</td>\n",
       "      <td>terraced duplex</td>\n",
       "      <td>Lekki Gardens Phase 2, Ajah, Lagos</td>\n",
       "      <td>Executive all rooms 3 bedroom corner piece ter...</td>\n",
       "      <td>2200000.0</td>\n",
       "      <td>3</td>\n",
       "      <td>3</td>\n",
       "      <td>4</td>\n",
       "      <td>4</td>\n",
       "      <td>Ajah</td>\n",
       "    </tr>\n",
       "    <tr>\n",
       "      <th>21592</th>\n",
       "      <td>Shop Space, Upstairs</td>\n",
       "      <td>Shop</td>\n",
       "      <td>Adebayo Doherty Road, Lekki Phase 1, Lekki, Lagos</td>\n",
       "      <td>Shop space upstairs on adebayo doherty road le...</td>\n",
       "      <td>2500000.0</td>\n",
       "      <td>0</td>\n",
       "      <td>0</td>\n",
       "      <td>1</td>\n",
       "      <td>0</td>\n",
       "      <td>Lekki</td>\n",
       "    </tr>\n",
       "    <tr>\n",
       "      <th>21593</th>\n",
       "      <td>A Very Spacious Commercial Space</td>\n",
       "      <td>Plaza / complex / mall</td>\n",
       "      <td>Admiralty Way, Lekki Phase 1, Lekki, Lagos</td>\n",
       "      <td>Very spacious commercial shop on admiralty way...</td>\n",
       "      <td>3000000.0</td>\n",
       "      <td>0</td>\n",
       "      <td>1</td>\n",
       "      <td>1</td>\n",
       "      <td>10</td>\n",
       "      <td>Lekki</td>\n",
       "    </tr>\n",
       "  </tbody>\n",
       "</table>\n",
       "<p>21594 rows × 10 columns</p>\n",
       "</div>"
      ],
      "text/plain": [
       "                                                   title  \\\n",
       "0                         3 Bedroom Apartment In Ologolo   \n",
       "1                             Luxury 2 Bedroom Apartment   \n",
       "2      Well Maintained 5 Bedroom Detached Duplex With Bq   \n",
       "3              Refurbished 3 Bedroom Luxury Flat With Bq   \n",
       "4                   Slick 2 Bedroom Apartment In Ologolo   \n",
       "...                                                  ...   \n",
       "21589   A Fully Furnished 4 Bedroom Semi-detached Duplex   \n",
       "21590                           Furnished 3 Bedroom Flat   \n",
       "21591             Executive All Rooms En-suite 3 Bedroom   \n",
       "21592                               Shop Space, Upstairs   \n",
       "21593                   A Very Spacious Commercial Space   \n",
       "\n",
       "                         type  \\\n",
       "0            flat / apartment   \n",
       "1            flat / apartment   \n",
       "2             detached duplex   \n",
       "3            flat / apartment   \n",
       "4            flat / apartment   \n",
       "...                       ...   \n",
       "21589    semi-detached duplex   \n",
       "21590        flat / apartment   \n",
       "21591         terraced duplex   \n",
       "21592                    Shop   \n",
       "21593  Plaza / complex / mall   \n",
       "\n",
       "                                                 address  \\\n",
       "0                                  Ologolo, Lekki, Lagos   \n",
       "1                    Newtown Estate, Ogombo, Ajah, Lagos   \n",
       "2                            Lekki Phase 1, Lekki, Lagos   \n",
       "3                            Lekki Phase 1, Lekki, Lagos   \n",
       "4                                  Ologolo, Lekki, Lagos   \n",
       "...                                                  ...   \n",
       "21589                  Spg Road, Igbo-efon, Lekki, Lagos   \n",
       "21590  Coral Beach Estate, Lekki Free Trade Zone, Lek...   \n",
       "21591                 Lekki Gardens Phase 2, Ajah, Lagos   \n",
       "21592  Adebayo Doherty Road, Lekki Phase 1, Lekki, Lagos   \n",
       "21593         Admiralty Way, Lekki Phase 1, Lekki, Lagos   \n",
       "\n",
       "                                             description       price  \\\n",
       "0      Self serviced\\n3bedroom fr rent in ologolo\\nre...   3500000.0   \n",
       "1      Brand new\\ngood water\\nluxury home\\nfitted kit...   1300000.0   \n",
       "2      Well maintained 5 bedroom detached duplex with...  20000000.0   \n",
       "3      Refurbished 3 bedroom luxury flats with bq ava...   8500000.0   \n",
       "4      2 bedroom apartmemt for rent\\nrent 2.8m\\nservi...   2800000.0   \n",
       "...                                                  ...         ...   \n",
       "21589  A fully furnished 4 bedroom semi-detached dupl...   4000000.0   \n",
       "21590  Furnished 3 bedroom apartment at coral beach e...   6000000.0   \n",
       "21591  Executive all rooms 3 bedroom corner piece ter...   2200000.0   \n",
       "21592  Shop space upstairs on adebayo doherty road le...   2500000.0   \n",
       "21593  Very spacious commercial shop on admiralty way...   3000000.0   \n",
       "\n",
       "       bedrooms  bathrooms  toilets  parking_spaces location  \n",
       "0             3          3        3               0    Lekki  \n",
       "1             2          2        3               2     Ajah  \n",
       "2             5          5        6               3    Lekki  \n",
       "3             3          3        3               3    Lekki  \n",
       "4             2          2        3               2    Lekki  \n",
       "...         ...        ...      ...             ...      ...  \n",
       "21589         4          4        5               3    Lekki  \n",
       "21590         3          4        4               0    Lekki  \n",
       "21591         3          3        4               4     Ajah  \n",
       "21592         0          0        1               0    Lekki  \n",
       "21593         0          1        1              10    Lekki  \n",
       "\n",
       "[21594 rows x 10 columns]"
      ]
     },
     "execution_count": 71,
     "metadata": {},
     "output_type": "execute_result"
    }
   ],
   "source": [
    "# Load Dataset\n",
    "house_df = pd.read_csv(\"../raw_data/house_clean_data.csv\")\n",
    "house_df"
   ]
  },
  {
   "cell_type": "markdown",
   "id": "7ed90d92-d911-42a5-a6a7-7abf46d97af2",
   "metadata": {},
   "source": [
    "## Inspect Data"
   ]
  },
  {
   "cell_type": "code",
   "execution_count": 72,
   "id": "bbbee069-059f-4d5e-9666-b0fcdb86f61f",
   "metadata": {},
   "outputs": [
    {
     "data": {
      "text/html": [
       "<div>\n",
       "<style scoped>\n",
       "    .dataframe tbody tr th:only-of-type {\n",
       "        vertical-align: middle;\n",
       "    }\n",
       "\n",
       "    .dataframe tbody tr th {\n",
       "        vertical-align: top;\n",
       "    }\n",
       "\n",
       "    .dataframe thead th {\n",
       "        text-align: right;\n",
       "    }\n",
       "</style>\n",
       "<table border=\"1\" class=\"dataframe\">\n",
       "  <thead>\n",
       "    <tr style=\"text-align: right;\">\n",
       "      <th></th>\n",
       "      <th>title</th>\n",
       "      <th>type</th>\n",
       "      <th>address</th>\n",
       "      <th>description</th>\n",
       "      <th>price</th>\n",
       "      <th>bedrooms</th>\n",
       "      <th>bathrooms</th>\n",
       "      <th>toilets</th>\n",
       "      <th>parking_spaces</th>\n",
       "      <th>location</th>\n",
       "    </tr>\n",
       "  </thead>\n",
       "  <tbody>\n",
       "    <tr>\n",
       "      <th>0</th>\n",
       "      <td>3 Bedroom Apartment In Ologolo</td>\n",
       "      <td>flat / apartment</td>\n",
       "      <td>Ologolo, Lekki, Lagos</td>\n",
       "      <td>Self serviced\\n3bedroom fr rent in ologolo\\nre...</td>\n",
       "      <td>3500000.0</td>\n",
       "      <td>3</td>\n",
       "      <td>3</td>\n",
       "      <td>3</td>\n",
       "      <td>0</td>\n",
       "      <td>Lekki</td>\n",
       "    </tr>\n",
       "    <tr>\n",
       "      <th>1</th>\n",
       "      <td>Luxury 2 Bedroom Apartment</td>\n",
       "      <td>flat / apartment</td>\n",
       "      <td>Newtown Estate, Ogombo, Ajah, Lagos</td>\n",
       "      <td>Brand new\\ngood water\\nluxury home\\nfitted kit...</td>\n",
       "      <td>1300000.0</td>\n",
       "      <td>2</td>\n",
       "      <td>2</td>\n",
       "      <td>3</td>\n",
       "      <td>2</td>\n",
       "      <td>Ajah</td>\n",
       "    </tr>\n",
       "    <tr>\n",
       "      <th>2</th>\n",
       "      <td>Well Maintained 5 Bedroom Detached Duplex With Bq</td>\n",
       "      <td>detached duplex</td>\n",
       "      <td>Lekki Phase 1, Lekki, Lagos</td>\n",
       "      <td>Well maintained 5 bedroom detached duplex with...</td>\n",
       "      <td>20000000.0</td>\n",
       "      <td>5</td>\n",
       "      <td>5</td>\n",
       "      <td>6</td>\n",
       "      <td>3</td>\n",
       "      <td>Lekki</td>\n",
       "    </tr>\n",
       "    <tr>\n",
       "      <th>3</th>\n",
       "      <td>Refurbished 3 Bedroom Luxury Flat With Bq</td>\n",
       "      <td>flat / apartment</td>\n",
       "      <td>Lekki Phase 1, Lekki, Lagos</td>\n",
       "      <td>Refurbished 3 bedroom luxury flats with bq ava...</td>\n",
       "      <td>8500000.0</td>\n",
       "      <td>3</td>\n",
       "      <td>3</td>\n",
       "      <td>3</td>\n",
       "      <td>3</td>\n",
       "      <td>Lekki</td>\n",
       "    </tr>\n",
       "    <tr>\n",
       "      <th>4</th>\n",
       "      <td>Slick 2 Bedroom Apartment In Ologolo</td>\n",
       "      <td>flat / apartment</td>\n",
       "      <td>Ologolo, Lekki, Lagos</td>\n",
       "      <td>2 bedroom apartmemt for rent\\nrent 2.8m\\nservi...</td>\n",
       "      <td>2800000.0</td>\n",
       "      <td>2</td>\n",
       "      <td>2</td>\n",
       "      <td>3</td>\n",
       "      <td>2</td>\n",
       "      <td>Lekki</td>\n",
       "    </tr>\n",
       "  </tbody>\n",
       "</table>\n",
       "</div>"
      ],
      "text/plain": [
       "                                               title              type  \\\n",
       "0                     3 Bedroom Apartment In Ologolo  flat / apartment   \n",
       "1                         Luxury 2 Bedroom Apartment  flat / apartment   \n",
       "2  Well Maintained 5 Bedroom Detached Duplex With Bq   detached duplex   \n",
       "3          Refurbished 3 Bedroom Luxury Flat With Bq  flat / apartment   \n",
       "4               Slick 2 Bedroom Apartment In Ologolo  flat / apartment   \n",
       "\n",
       "                               address  \\\n",
       "0                Ologolo, Lekki, Lagos   \n",
       "1  Newtown Estate, Ogombo, Ajah, Lagos   \n",
       "2          Lekki Phase 1, Lekki, Lagos   \n",
       "3          Lekki Phase 1, Lekki, Lagos   \n",
       "4                Ologolo, Lekki, Lagos   \n",
       "\n",
       "                                         description       price  bedrooms  \\\n",
       "0  Self serviced\\n3bedroom fr rent in ologolo\\nre...   3500000.0         3   \n",
       "1  Brand new\\ngood water\\nluxury home\\nfitted kit...   1300000.0         2   \n",
       "2  Well maintained 5 bedroom detached duplex with...  20000000.0         5   \n",
       "3  Refurbished 3 bedroom luxury flats with bq ava...   8500000.0         3   \n",
       "4  2 bedroom apartmemt for rent\\nrent 2.8m\\nservi...   2800000.0         2   \n",
       "\n",
       "   bathrooms  toilets  parking_spaces location  \n",
       "0          3        3               0    Lekki  \n",
       "1          2        3               2     Ajah  \n",
       "2          5        6               3    Lekki  \n",
       "3          3        3               3    Lekki  \n",
       "4          2        3               2    Lekki  "
      ]
     },
     "execution_count": 72,
     "metadata": {},
     "output_type": "execute_result"
    }
   ],
   "source": [
    "house_df.head()"
   ]
  },
  {
   "cell_type": "code",
   "execution_count": 73,
   "id": "4c714c2a-795e-4eee-9150-2aa176dad054",
   "metadata": {},
   "outputs": [
    {
     "data": {
      "text/html": [
       "<div>\n",
       "<style scoped>\n",
       "    .dataframe tbody tr th:only-of-type {\n",
       "        vertical-align: middle;\n",
       "    }\n",
       "\n",
       "    .dataframe tbody tr th {\n",
       "        vertical-align: top;\n",
       "    }\n",
       "\n",
       "    .dataframe thead th {\n",
       "        text-align: right;\n",
       "    }\n",
       "</style>\n",
       "<table border=\"1\" class=\"dataframe\">\n",
       "  <thead>\n",
       "    <tr style=\"text-align: right;\">\n",
       "      <th></th>\n",
       "      <th>title</th>\n",
       "      <th>type</th>\n",
       "      <th>address</th>\n",
       "      <th>description</th>\n",
       "      <th>price</th>\n",
       "      <th>bedrooms</th>\n",
       "      <th>bathrooms</th>\n",
       "      <th>toilets</th>\n",
       "      <th>parking_spaces</th>\n",
       "      <th>location</th>\n",
       "    </tr>\n",
       "  </thead>\n",
       "  <tbody>\n",
       "    <tr>\n",
       "      <th>21589</th>\n",
       "      <td>A Fully Furnished 4 Bedroom Semi-detached Duplex</td>\n",
       "      <td>semi-detached duplex</td>\n",
       "      <td>Spg Road, Igbo-efon, Lekki, Lagos</td>\n",
       "      <td>A fully furnished 4 bedroom semi-detached dupl...</td>\n",
       "      <td>4000000.0</td>\n",
       "      <td>4</td>\n",
       "      <td>4</td>\n",
       "      <td>5</td>\n",
       "      <td>3</td>\n",
       "      <td>Lekki</td>\n",
       "    </tr>\n",
       "    <tr>\n",
       "      <th>21590</th>\n",
       "      <td>Furnished 3 Bedroom Flat</td>\n",
       "      <td>flat / apartment</td>\n",
       "      <td>Coral Beach Estate, Lekki Free Trade Zone, Lek...</td>\n",
       "      <td>Furnished 3 bedroom apartment at coral beach e...</td>\n",
       "      <td>6000000.0</td>\n",
       "      <td>3</td>\n",
       "      <td>4</td>\n",
       "      <td>4</td>\n",
       "      <td>0</td>\n",
       "      <td>Lekki</td>\n",
       "    </tr>\n",
       "    <tr>\n",
       "      <th>21591</th>\n",
       "      <td>Executive All Rooms En-suite 3 Bedroom</td>\n",
       "      <td>terraced duplex</td>\n",
       "      <td>Lekki Gardens Phase 2, Ajah, Lagos</td>\n",
       "      <td>Executive all rooms 3 bedroom corner piece ter...</td>\n",
       "      <td>2200000.0</td>\n",
       "      <td>3</td>\n",
       "      <td>3</td>\n",
       "      <td>4</td>\n",
       "      <td>4</td>\n",
       "      <td>Ajah</td>\n",
       "    </tr>\n",
       "    <tr>\n",
       "      <th>21592</th>\n",
       "      <td>Shop Space, Upstairs</td>\n",
       "      <td>Shop</td>\n",
       "      <td>Adebayo Doherty Road, Lekki Phase 1, Lekki, Lagos</td>\n",
       "      <td>Shop space upstairs on adebayo doherty road le...</td>\n",
       "      <td>2500000.0</td>\n",
       "      <td>0</td>\n",
       "      <td>0</td>\n",
       "      <td>1</td>\n",
       "      <td>0</td>\n",
       "      <td>Lekki</td>\n",
       "    </tr>\n",
       "    <tr>\n",
       "      <th>21593</th>\n",
       "      <td>A Very Spacious Commercial Space</td>\n",
       "      <td>Plaza / complex / mall</td>\n",
       "      <td>Admiralty Way, Lekki Phase 1, Lekki, Lagos</td>\n",
       "      <td>Very spacious commercial shop on admiralty way...</td>\n",
       "      <td>3000000.0</td>\n",
       "      <td>0</td>\n",
       "      <td>1</td>\n",
       "      <td>1</td>\n",
       "      <td>10</td>\n",
       "      <td>Lekki</td>\n",
       "    </tr>\n",
       "  </tbody>\n",
       "</table>\n",
       "</div>"
      ],
      "text/plain": [
       "                                                  title  \\\n",
       "21589  A Fully Furnished 4 Bedroom Semi-detached Duplex   \n",
       "21590                          Furnished 3 Bedroom Flat   \n",
       "21591            Executive All Rooms En-suite 3 Bedroom   \n",
       "21592                              Shop Space, Upstairs   \n",
       "21593                  A Very Spacious Commercial Space   \n",
       "\n",
       "                         type  \\\n",
       "21589    semi-detached duplex   \n",
       "21590        flat / apartment   \n",
       "21591         terraced duplex   \n",
       "21592                    Shop   \n",
       "21593  Plaza / complex / mall   \n",
       "\n",
       "                                                 address  \\\n",
       "21589                  Spg Road, Igbo-efon, Lekki, Lagos   \n",
       "21590  Coral Beach Estate, Lekki Free Trade Zone, Lek...   \n",
       "21591                 Lekki Gardens Phase 2, Ajah, Lagos   \n",
       "21592  Adebayo Doherty Road, Lekki Phase 1, Lekki, Lagos   \n",
       "21593         Admiralty Way, Lekki Phase 1, Lekki, Lagos   \n",
       "\n",
       "                                             description      price  bedrooms  \\\n",
       "21589  A fully furnished 4 bedroom semi-detached dupl...  4000000.0         4   \n",
       "21590  Furnished 3 bedroom apartment at coral beach e...  6000000.0         3   \n",
       "21591  Executive all rooms 3 bedroom corner piece ter...  2200000.0         3   \n",
       "21592  Shop space upstairs on adebayo doherty road le...  2500000.0         0   \n",
       "21593  Very spacious commercial shop on admiralty way...  3000000.0         0   \n",
       "\n",
       "       bathrooms  toilets  parking_spaces location  \n",
       "21589          4        5               3    Lekki  \n",
       "21590          4        4               0    Lekki  \n",
       "21591          3        4               4     Ajah  \n",
       "21592          0        1               0    Lekki  \n",
       "21593          1        1              10    Lekki  "
      ]
     },
     "execution_count": 73,
     "metadata": {},
     "output_type": "execute_result"
    }
   ],
   "source": [
    "house_df.tail()"
   ]
  },
  {
   "cell_type": "code",
   "execution_count": 74,
   "id": "acfe1f13-4f4e-4337-a0aa-108d1d768ca7",
   "metadata": {},
   "outputs": [
    {
     "data": {
      "text/html": [
       "<div>\n",
       "<style scoped>\n",
       "    .dataframe tbody tr th:only-of-type {\n",
       "        vertical-align: middle;\n",
       "    }\n",
       "\n",
       "    .dataframe tbody tr th {\n",
       "        vertical-align: top;\n",
       "    }\n",
       "\n",
       "    .dataframe thead th {\n",
       "        text-align: right;\n",
       "    }\n",
       "</style>\n",
       "<table border=\"1\" class=\"dataframe\">\n",
       "  <thead>\n",
       "    <tr style=\"text-align: right;\">\n",
       "      <th></th>\n",
       "      <th>title</th>\n",
       "      <th>type</th>\n",
       "      <th>address</th>\n",
       "      <th>description</th>\n",
       "      <th>price</th>\n",
       "      <th>bedrooms</th>\n",
       "      <th>bathrooms</th>\n",
       "      <th>toilets</th>\n",
       "      <th>parking_spaces</th>\n",
       "      <th>location</th>\n",
       "    </tr>\n",
       "  </thead>\n",
       "  <tbody>\n",
       "    <tr>\n",
       "      <th>4700</th>\n",
       "      <td>Affordable Shop Spaces</td>\n",
       "      <td>Shop</td>\n",
       "      <td>Olokonla, Ajah, Lagos</td>\n",
       "      <td>A very decent shop can be used for restaurant,...</td>\n",
       "      <td>15000000.0</td>\n",
       "      <td>0</td>\n",
       "      <td>0</td>\n",
       "      <td>0</td>\n",
       "      <td>0</td>\n",
       "      <td>Ajah</td>\n",
       "    </tr>\n",
       "  </tbody>\n",
       "</table>\n",
       "</div>"
      ],
      "text/plain": [
       "                       title  type                address  \\\n",
       "4700  Affordable Shop Spaces  Shop  Olokonla, Ajah, Lagos   \n",
       "\n",
       "                                            description       price  bedrooms  \\\n",
       "4700  A very decent shop can be used for restaurant,...  15000000.0         0   \n",
       "\n",
       "      bathrooms  toilets  parking_spaces location  \n",
       "4700          0        0               0     Ajah  "
      ]
     },
     "execution_count": 74,
     "metadata": {},
     "output_type": "execute_result"
    }
   ],
   "source": [
    "house_df.sample()"
   ]
  },
  {
   "cell_type": "code",
   "execution_count": 75,
   "id": "1b69964e-14ff-4a38-a11f-c178bab3291c",
   "metadata": {},
   "outputs": [
    {
     "data": {
      "text/plain": [
       "(21594, 10)"
      ]
     },
     "execution_count": 75,
     "metadata": {},
     "output_type": "execute_result"
    }
   ],
   "source": [
    "house_df.shape"
   ]
  },
  {
   "cell_type": "code",
   "execution_count": 76,
   "id": "f90ad6c1-cee2-4956-be49-36f88317854e",
   "metadata": {},
   "outputs": [
    {
     "data": {
      "text/plain": [
       "Index(['title', 'type', 'address', 'description', 'price', 'bedrooms',\n",
       "       'bathrooms', 'toilets', 'parking_spaces', 'location'],\n",
       "      dtype='object')"
      ]
     },
     "execution_count": 76,
     "metadata": {},
     "output_type": "execute_result"
    }
   ],
   "source": [
    "house_df.columns"
   ]
  },
  {
   "cell_type": "code",
   "execution_count": 77,
   "id": "fb9a3229-b828-49df-8f29-ed8289e03f90",
   "metadata": {},
   "outputs": [
    {
     "name": "stdout",
     "output_type": "stream",
     "text": [
      "<class 'pandas.core.frame.DataFrame'>\n",
      "RangeIndex: 21594 entries, 0 to 21593\n",
      "Data columns (total 10 columns):\n",
      " #   Column          Non-Null Count  Dtype  \n",
      "---  ------          --------------  -----  \n",
      " 0   title           21594 non-null  object \n",
      " 1   type            21594 non-null  object \n",
      " 2   address         21594 non-null  object \n",
      " 3   description     21594 non-null  object \n",
      " 4   price           21594 non-null  float64\n",
      " 5   bedrooms        21594 non-null  int64  \n",
      " 6   bathrooms       21594 non-null  int64  \n",
      " 7   toilets         21594 non-null  int64  \n",
      " 8   parking_spaces  21594 non-null  int64  \n",
      " 9   location        21594 non-null  object \n",
      "dtypes: float64(1), int64(4), object(5)\n",
      "memory usage: 1.6+ MB\n"
     ]
    }
   ],
   "source": [
    "house_df.info()"
   ]
  },
  {
   "cell_type": "code",
   "execution_count": 78,
   "id": "2ff35c7c-05f6-48c0-8cdd-15112289d884",
   "metadata": {},
   "outputs": [
    {
     "data": {
      "text/plain": [
       "title             0\n",
       "type              0\n",
       "address           0\n",
       "description       0\n",
       "price             0\n",
       "bedrooms          0\n",
       "bathrooms         0\n",
       "toilets           0\n",
       "parking_spaces    0\n",
       "location          0\n",
       "dtype: int64"
      ]
     },
     "execution_count": 78,
     "metadata": {},
     "output_type": "execute_result"
    }
   ],
   "source": [
    "house_df.isnull().sum()"
   ]
  },
  {
   "cell_type": "code",
   "execution_count": 79,
   "id": "118c0db8-c4d5-4a9f-953a-263fea6c1ce4",
   "metadata": {},
   "outputs": [
    {
     "data": {
      "text/html": [
       "<div>\n",
       "<style scoped>\n",
       "    .dataframe tbody tr th:only-of-type {\n",
       "        vertical-align: middle;\n",
       "    }\n",
       "\n",
       "    .dataframe tbody tr th {\n",
       "        vertical-align: top;\n",
       "    }\n",
       "\n",
       "    .dataframe thead th {\n",
       "        text-align: right;\n",
       "    }\n",
       "</style>\n",
       "<table border=\"1\" class=\"dataframe\">\n",
       "  <thead>\n",
       "    <tr style=\"text-align: right;\">\n",
       "      <th></th>\n",
       "      <th>price</th>\n",
       "      <th>bedrooms</th>\n",
       "      <th>bathrooms</th>\n",
       "      <th>toilets</th>\n",
       "      <th>parking_spaces</th>\n",
       "    </tr>\n",
       "  </thead>\n",
       "  <tbody>\n",
       "    <tr>\n",
       "      <th>count</th>\n",
       "      <td>2.159400e+04</td>\n",
       "      <td>21594.000000</td>\n",
       "      <td>21594.000000</td>\n",
       "      <td>21594.000000</td>\n",
       "      <td>21594.000000</td>\n",
       "    </tr>\n",
       "    <tr>\n",
       "      <th>mean</th>\n",
       "      <td>1.940513e+07</td>\n",
       "      <td>2.669769</td>\n",
       "      <td>2.597064</td>\n",
       "      <td>3.424238</td>\n",
       "      <td>3.526535</td>\n",
       "    </tr>\n",
       "    <tr>\n",
       "      <th>std</th>\n",
       "      <td>9.048419e+08</td>\n",
       "      <td>3.071887</td>\n",
       "      <td>3.447411</td>\n",
       "      <td>10.782205</td>\n",
       "      <td>54.514002</td>\n",
       "    </tr>\n",
       "    <tr>\n",
       "      <th>min</th>\n",
       "      <td>2.000000e+03</td>\n",
       "      <td>0.000000</td>\n",
       "      <td>0.000000</td>\n",
       "      <td>0.000000</td>\n",
       "      <td>0.000000</td>\n",
       "    </tr>\n",
       "    <tr>\n",
       "      <th>25%</th>\n",
       "      <td>2.300000e+06</td>\n",
       "      <td>1.000000</td>\n",
       "      <td>1.000000</td>\n",
       "      <td>2.000000</td>\n",
       "      <td>0.000000</td>\n",
       "    </tr>\n",
       "    <tr>\n",
       "      <th>50%</th>\n",
       "      <td>5.500000e+06</td>\n",
       "      <td>3.000000</td>\n",
       "      <td>3.000000</td>\n",
       "      <td>3.000000</td>\n",
       "      <td>1.000000</td>\n",
       "    </tr>\n",
       "    <tr>\n",
       "      <th>75%</th>\n",
       "      <td>1.200000e+07</td>\n",
       "      <td>4.000000</td>\n",
       "      <td>4.000000</td>\n",
       "      <td>5.000000</td>\n",
       "      <td>3.000000</td>\n",
       "    </tr>\n",
       "    <tr>\n",
       "      <th>max</th>\n",
       "      <td>1.325000e+11</td>\n",
       "      <td>211.000000</td>\n",
       "      <td>288.000000</td>\n",
       "      <td>1500.000000</td>\n",
       "      <td>6000.000000</td>\n",
       "    </tr>\n",
       "  </tbody>\n",
       "</table>\n",
       "</div>"
      ],
      "text/plain": [
       "              price      bedrooms     bathrooms       toilets  parking_spaces\n",
       "count  2.159400e+04  21594.000000  21594.000000  21594.000000    21594.000000\n",
       "mean   1.940513e+07      2.669769      2.597064      3.424238        3.526535\n",
       "std    9.048419e+08      3.071887      3.447411     10.782205       54.514002\n",
       "min    2.000000e+03      0.000000      0.000000      0.000000        0.000000\n",
       "25%    2.300000e+06      1.000000      1.000000      2.000000        0.000000\n",
       "50%    5.500000e+06      3.000000      3.000000      3.000000        1.000000\n",
       "75%    1.200000e+07      4.000000      4.000000      5.000000        3.000000\n",
       "max    1.325000e+11    211.000000    288.000000   1500.000000     6000.000000"
      ]
     },
     "execution_count": 79,
     "metadata": {},
     "output_type": "execute_result"
    }
   ],
   "source": [
    "house_df.describe()"
   ]
  },
  {
   "cell_type": "markdown",
   "id": "01797c9e-d8a8-4fde-8639-ab32e746e58a",
   "metadata": {},
   "source": [
    "**Observation**\n",
    "* The average rent price is approximately #19,405,130\n",
    "* The median rent price is approximately #5,500,000\n",
    "* The minumum rent price is #2000\n",
    "* The maximum rent price is approximately #132 billion"
   ]
  },
  {
   "cell_type": "markdown",
   "id": "56f0cda8-827f-491a-a1d5-8c0960f76c24",
   "metadata": {},
   "source": [
    "## Exploration Data Analysis\n",
    "- Univariate Analysis\n",
    "- Bivariate Analysis\n",
    "- Multivariate Analysis"
   ]
  },
  {
   "cell_type": "markdown",
   "id": "6d4ddf1e-a2ef-4dfe-9b43-60454d302988",
   "metadata": {},
   "source": [
    "# Price Distribution\n",
    "sns.displot(data=house_df, x=\"price\")\n",
    "plt.title(\"Price Distribution\")\n",
    "plt.show()"
   ]
  },
  {
   "cell_type": "markdown",
   "id": "64c87740-874d-4528-baca-8e209ab4e30d",
   "metadata": {},
   "source": [
    "# Price Distribution\n",
    "sns.displot(data=house_df, x=\"bedrooms\", kde=True)\n",
    "plt.title(\"Price Distribution\")\n",
    "plt.show()"
   ]
  },
  {
   "cell_type": "markdown",
   "id": "7f27d75d-94b2-4783-89ba-3f3ba537422f",
   "metadata": {},
   "source": [
    "# Price Distribution\n",
    "sns.displot(data=house_df, x=\"bathrooms\", kde=True)\n",
    "plt.title(\"Price Distribution\")\n",
    "plt.show()"
   ]
  },
  {
   "cell_type": "markdown",
   "id": "bd7e8bc2-7ab1-40e9-815d-f663277a4f41",
   "metadata": {},
   "source": [
    "## Handle Outliers\n",
    "consider price, bedrooms, bathrooms, park_spaces, toilets"
   ]
  },
  {
   "cell_type": "code",
   "execution_count": 80,
   "id": "ac2dd8e8-442e-41d8-9ba6-e61b1cdc6d68",
   "metadata": {},
   "outputs": [
    {
     "data": {
      "image/png": "[encoded data removed]",
      "text/plain": [
       "<Figure size 1500x500 with 4 Axes>"
      ]
     },
     "metadata": {},
     "output_type": "display_data"
    }
   ],
   "source": [
    "numerical_columns = [\"price\", \"bedrooms\", \"bathrooms\", \"parking_spaces\", \"toilets\"]\n",
    "fig, axarr = plt.subplots(1,4, figsize=(15, 5))\n",
    "\n",
    "n=0\n",
    "\n",
    "for col in numerical_columns:\n",
    "    ax = axarr[n]\n",
    "    sns.boxplot(y=house_df[col], color=\"orange\", ax=ax)\n",
    "    ax.set_xlabel(col)\n",
    "    ax.set_ylabel(\"\")\n",
    "    n += 1\n",
    "    if n > 3:\n",
    "        break\n",
    "\n",
    "plt.tight_layout()\n",
    "plt.show()"
   ]
  },
  {
   "cell_type": "markdown",
   "id": "4272e244-a77c-439e-95a4-f0e64011cd4e",
   "metadata": {},
   "source": [
    "We will be removing out the outliers in the numeric columns"
   ]
  },
  {
   "cell_type": "markdown",
   "id": "57b85c20-fdd6-4c23-8d54-f85788d20e3c",
   "metadata": {},
   "source": [
    "## Removing Outlieries"
   ]
  },
  {
   "cell_type": "code",
   "execution_count": 81,
   "id": "14ece239-d75b-4f61-8ff3-4160473ec1d8",
   "metadata": {},
   "outputs": [],
   "source": [
    "def remove_outliers(data):\n",
    "    \"\"\" \n",
    "    This function returns the total outliers in a dataframe column\n",
    "    and replace the upper and lower outliers using Interquatile Range (IQR)\n",
    "    \"\"\"\n",
    "\n",
    "    # calcuate the third quartile\n",
    "    Q3 = data.quantile(0.75)\n",
    "\n",
    "    # calcuate the first quartile\n",
    "    Q1 = data.quantile(0.25)\n",
    "\n",
    "    # calcuate the IQR\n",
    "    IQR = Q3 -Q1\n",
    "\n",
    "    # calculate lower_fence\n",
    "    lower_fence = round(Q1 - 1.5*IQR)\n",
    "\n",
    "    # calculate upper_fence\n",
    "    upper_fence = round(Q3 + 1.5*IQR)\n",
    "\n",
    "    # replacing the lower outliers with the lower IQR value\n",
    "    data.loc[data<lower_fence] = lower_fence\n",
    "\n",
    "    # replacing the upper outliers with the upper IQR value\n",
    "    data.loc[data>upper_fence] = upper_fence\n",
    "\n",
    "    return data"
   ]
  },
  {
   "cell_type": "code",
   "execution_count": 82,
   "id": "fd50840d-97eb-4c25-b282-98ec41f11e35",
   "metadata": {},
   "outputs": [
    {
     "name": "stderr",
     "output_type": "stream",
     "text": [
      "/var/folders/8s/8kr9355d57gbx1dg94k8jmh00000gn/T/ipykernel_13348/3310780320.py:23: SettingWithCopyWarning: \n",
      "A value is trying to be set on a copy of a slice from a DataFrame\n",
      "\n",
      "See the caveats in the documentation: https://pandas.pydata.org/pandas-docs/stable/user_guide/indexing.html#returning-a-view-versus-a-copy\n",
      "  data.loc[data<lower_fence] = lower_fence\n",
      "/var/folders/8s/8kr9355d57gbx1dg94k8jmh00000gn/T/ipykernel_13348/3310780320.py:26: SettingWithCopyWarning: \n",
      "A value is trying to be set on a copy of a slice from a DataFrame\n",
      "\n",
      "See the caveats in the documentation: https://pandas.pydata.org/pandas-docs/stable/user_guide/indexing.html#returning-a-view-versus-a-copy\n",
      "  data.loc[data>upper_fence] = upper_fence\n",
      "/var/folders/8s/8kr9355d57gbx1dg94k8jmh00000gn/T/ipykernel_13348/3310780320.py:23: SettingWithCopyWarning: \n",
      "A value is trying to be set on a copy of a slice from a DataFrame\n",
      "\n",
      "See the caveats in the documentation: https://pandas.pydata.org/pandas-docs/stable/user_guide/indexing.html#returning-a-view-versus-a-copy\n",
      "  data.loc[data<lower_fence] = lower_fence\n",
      "/var/folders/8s/8kr9355d57gbx1dg94k8jmh00000gn/T/ipykernel_13348/3310780320.py:26: SettingWithCopyWarning: \n",
      "A value is trying to be set on a copy of a slice from a DataFrame\n",
      "\n",
      "See the caveats in the documentation: https://pandas.pydata.org/pandas-docs/stable/user_guide/indexing.html#returning-a-view-versus-a-copy\n",
      "  data.loc[data>upper_fence] = upper_fence\n",
      "/var/folders/8s/8kr9355d57gbx1dg94k8jmh00000gn/T/ipykernel_13348/3310780320.py:23: SettingWithCopyWarning: \n",
      "A value is trying to be set on a copy of a slice from a DataFrame\n",
      "\n",
      "See the caveats in the documentation: https://pandas.pydata.org/pandas-docs/stable/user_guide/indexing.html#returning-a-view-versus-a-copy\n",
      "  data.loc[data<lower_fence] = lower_fence\n",
      "/var/folders/8s/8kr9355d57gbx1dg94k8jmh00000gn/T/ipykernel_13348/3310780320.py:26: SettingWithCopyWarning: \n",
      "A value is trying to be set on a copy of a slice from a DataFrame\n",
      "\n",
      "See the caveats in the documentation: https://pandas.pydata.org/pandas-docs/stable/user_guide/indexing.html#returning-a-view-versus-a-copy\n",
      "  data.loc[data>upper_fence] = upper_fence\n",
      "/var/folders/8s/8kr9355d57gbx1dg94k8jmh00000gn/T/ipykernel_13348/3310780320.py:23: SettingWithCopyWarning: \n",
      "A value is trying to be set on a copy of a slice from a DataFrame\n",
      "\n",
      "See the caveats in the documentation: https://pandas.pydata.org/pandas-docs/stable/user_guide/indexing.html#returning-a-view-versus-a-copy\n",
      "  data.loc[data<lower_fence] = lower_fence\n",
      "/var/folders/8s/8kr9355d57gbx1dg94k8jmh00000gn/T/ipykernel_13348/3310780320.py:26: SettingWithCopyWarning: \n",
      "A value is trying to be set on a copy of a slice from a DataFrame\n",
      "\n",
      "See the caveats in the documentation: https://pandas.pydata.org/pandas-docs/stable/user_guide/indexing.html#returning-a-view-versus-a-copy\n",
      "  data.loc[data>upper_fence] = upper_fence\n",
      "/var/folders/8s/8kr9355d57gbx1dg94k8jmh00000gn/T/ipykernel_13348/3310780320.py:23: SettingWithCopyWarning: \n",
      "A value is trying to be set on a copy of a slice from a DataFrame\n",
      "\n",
      "See the caveats in the documentation: https://pandas.pydata.org/pandas-docs/stable/user_guide/indexing.html#returning-a-view-versus-a-copy\n",
      "  data.loc[data<lower_fence] = lower_fence\n",
      "/var/folders/8s/8kr9355d57gbx1dg94k8jmh00000gn/T/ipykernel_13348/3310780320.py:26: SettingWithCopyWarning: \n",
      "A value is trying to be set on a copy of a slice from a DataFrame\n",
      "\n",
      "See the caveats in the documentation: https://pandas.pydata.org/pandas-docs/stable/user_guide/indexing.html#returning-a-view-versus-a-copy\n",
      "  data.loc[data>upper_fence] = upper_fence\n"
     ]
    }
   ],
   "source": [
    "# Remove outliers in each columns\n",
    "house_df[\"price\"] = remove_outliers(house_df[\"price\"])\n",
    "house_df[\"bedrooms\"] = remove_outliers(house_df[\"bedrooms\"])\n",
    "house_df[\"bathrooms\"] = remove_outliers(house_df[\"bathrooms\"])\n",
    "house_df[\"parking_spaces\"] = remove_outliers(house_df[\"parking_spaces\"])\n",
    "house_df[\"toilets\"] = remove_outliers(house_df[\"toilets\"])"
   ]
  },
  {
   "cell_type": "markdown",
   "id": "2cc46263-8397-45a3-addb-e4ae2c8a2cfe",
   "metadata": {},
   "source": [
    "## Verify No Outliers"
   ]
  },
  {
   "cell_type": "code",
   "execution_count": 83,
   "id": "f605c45e-9a46-4b67-8f02-f06c1f26cd91",
   "metadata": {},
   "outputs": [
    {
     "data": {
      "image/png": "[encoded data removed]",
      "text/plain": [
       "<Figure size 1500x500 with 4 Axes>"
      ]
     },
     "metadata": {},
     "output_type": "display_data"
    }
   ],
   "source": [
    "numerical_columns = [\"price\", \"bedrooms\", \"bathrooms\", \"parking_spaces\", \"toilets\"]\n",
    "fig, axarr = plt.subplots(1,4, figsize=(15, 5))\n",
    "\n",
    "n=0\n",
    "\n",
    "for col in numerical_columns:\n",
    "    ax = axarr[n]\n",
    "    sns.boxplot(y=house_df[col], color=\"orange\", ax=ax)\n",
    "    ax.set_xlabel(col)\n",
    "    ax.set_ylabel(\"\")\n",
    "    n += 1\n",
    "    if n > 3:\n",
    "        break\n",
    "\n",
    "plt.tight_layout()\n",
    "plt.show()"
   ]
  },
  {
   "cell_type": "markdown",
   "id": "2fc17b5b-f979-494b-bde2-85b604071f65",
   "metadata": {},
   "source": [
    "# Correlation"
   ]
  },
  {
   "cell_type": "code",
   "execution_count": 84,
   "id": "aac63d1d-ba5e-4267-928d-b80a5c5d1165",
   "metadata": {},
   "outputs": [
    {
     "data": {
      "text/html": [
       "<div>\n",
       "<style scoped>\n",
       "    .dataframe tbody tr th:only-of-type {\n",
       "        vertical-align: middle;\n",
       "    }\n",
       "\n",
       "    .dataframe tbody tr th {\n",
       "        vertical-align: top;\n",
       "    }\n",
       "\n",
       "    .dataframe thead th {\n",
       "        text-align: right;\n",
       "    }\n",
       "</style>\n",
       "<table border=\"1\" class=\"dataframe\">\n",
       "  <thead>\n",
       "    <tr style=\"text-align: right;\">\n",
       "      <th></th>\n",
       "      <th>price</th>\n",
       "      <th>bedrooms</th>\n",
       "      <th>bathrooms</th>\n",
       "      <th>toilets</th>\n",
       "      <th>parking_spaces</th>\n",
       "    </tr>\n",
       "  </thead>\n",
       "  <tbody>\n",
       "    <tr>\n",
       "      <th>price</th>\n",
       "      <td>1.000000</td>\n",
       "      <td>0.474029</td>\n",
       "      <td>0.350011</td>\n",
       "      <td>0.374817</td>\n",
       "      <td>0.045533</td>\n",
       "    </tr>\n",
       "    <tr>\n",
       "      <th>bedrooms</th>\n",
       "      <td>0.474029</td>\n",
       "      <td>1.000000</td>\n",
       "      <td>0.729032</td>\n",
       "      <td>0.714032</td>\n",
       "      <td>0.166393</td>\n",
       "    </tr>\n",
       "    <tr>\n",
       "      <th>bathrooms</th>\n",
       "      <td>0.350011</td>\n",
       "      <td>0.729032</td>\n",
       "      <td>1.000000</td>\n",
       "      <td>0.872566</td>\n",
       "      <td>0.328611</td>\n",
       "    </tr>\n",
       "    <tr>\n",
       "      <th>toilets</th>\n",
       "      <td>0.374817</td>\n",
       "      <td>0.714032</td>\n",
       "      <td>0.872566</td>\n",
       "      <td>1.000000</td>\n",
       "      <td>0.306919</td>\n",
       "    </tr>\n",
       "    <tr>\n",
       "      <th>parking_spaces</th>\n",
       "      <td>0.045533</td>\n",
       "      <td>0.166393</td>\n",
       "      <td>0.328611</td>\n",
       "      <td>0.306919</td>\n",
       "      <td>1.000000</td>\n",
       "    </tr>\n",
       "  </tbody>\n",
       "</table>\n",
       "</div>"
      ],
      "text/plain": [
       "                   price  bedrooms  bathrooms   toilets  parking_spaces\n",
       "price           1.000000  0.474029   0.350011  0.374817        0.045533\n",
       "bedrooms        0.474029  1.000000   0.729032  0.714032        0.166393\n",
       "bathrooms       0.350011  0.729032   1.000000  0.872566        0.328611\n",
       "toilets         0.374817  0.714032   0.872566  1.000000        0.306919\n",
       "parking_spaces  0.045533  0.166393   0.328611  0.306919        1.000000"
      ]
     },
     "execution_count": 84,
     "metadata": {},
     "output_type": "execute_result"
    }
   ],
   "source": [
    "house_df.corr(numeric_only=True)"
   ]
  },
  {
   "cell_type": "code",
   "execution_count": 85,
   "id": "4f207087-dd40-4fc6-8c9d-eee417439cf7",
   "metadata": {},
   "outputs": [
    {
     "data": {
      "image/png": "[encoded data removed]",
      "text/plain": [
       "<Figure size 1000x800 with 2 Axes>"
      ]
     },
     "metadata": {},
     "output_type": "display_data"
    }
   ],
   "source": [
    "plt.figure(figsize=(10,8))\n",
    "sns.heatmap(house_df.corr(numeric_only=True), annot=True)\n",
    "plt.title(\"Correlation of the Dataset\")\n",
    "plt.show()"
   ]
  },
  {
   "cell_type": "code",
   "execution_count": 86,
   "id": "8105f77b-f901-4436-9ab5-a3b660e4c12c",
   "metadata": {},
   "outputs": [
    {
     "data": {
      "text/plain": [
       "<Figure size 1000x800 with 0 Axes>"
      ]
     },
     "metadata": {},
     "output_type": "display_data"
    },
    {
     "data": {
      "image/png": "[encoded data removed]",
      "text/plain": [
       "<Figure size 1000x250 with 4 Axes>"
      ]
     },
     "metadata": {},
     "output_type": "display_data"
    }
   ],
   "source": [
    "# Lets visualize the correration\n",
    "\n",
    "columns = [\"bedrooms\", \"bathrooms\", \"toilets\", \"parking_spaces\"]\n",
    "\n",
    "plt.figure(figsize=(10, 8))\n",
    "sns.pairplot(data=house_df, x_vars=columns, y_vars=\"price\", diag_kind=\"hist\", kind=\"reg\")\n",
    "plt.show()"
   ]
  },
  {
   "cell_type": "markdown",
   "id": "08edeb23-806a-40fb-916d-e58cb10614f5",
   "metadata": {},
   "source": [
    "## Feature Selection"
   ]
  },
  {
   "cell_type": "code",
   "execution_count": 87,
   "id": "d2db14a0-2d71-4516-8d1f-d246539d6782",
   "metadata": {},
   "outputs": [],
   "source": [
    "extract_df = house_df[[\"type\", \"price\", \"bedrooms\", \"bathrooms\", \"toilets\", \"parking_spaces\", \"location\"]]"
   ]
  },
  {
   "cell_type": "code",
   "execution_count": 88,
   "id": "8172cfdc-3e1c-44bc-869b-b78cb995333b",
   "metadata": {},
   "outputs": [
    {
     "data": {
      "text/html": [
       "<div>\n",
       "<style scoped>\n",
       "    .dataframe tbody tr th:only-of-type {\n",
       "        vertical-align: middle;\n",
       "    }\n",
       "\n",
       "    .dataframe tbody tr th {\n",
       "        vertical-align: top;\n",
       "    }\n",
       "\n",
       "    .dataframe thead th {\n",
       "        text-align: right;\n",
       "    }\n",
       "</style>\n",
       "<table border=\"1\" class=\"dataframe\">\n",
       "  <thead>\n",
       "    <tr style=\"text-align: right;\">\n",
       "      <th></th>\n",
       "      <th>type</th>\n",
       "      <th>price</th>\n",
       "      <th>bedrooms</th>\n",
       "      <th>bathrooms</th>\n",
       "      <th>toilets</th>\n",
       "      <th>parking_spaces</th>\n",
       "      <th>location</th>\n",
       "    </tr>\n",
       "  </thead>\n",
       "  <tbody>\n",
       "    <tr>\n",
       "      <th>0</th>\n",
       "      <td>flat / apartment</td>\n",
       "      <td>3500000.0</td>\n",
       "      <td>3</td>\n",
       "      <td>3</td>\n",
       "      <td>3</td>\n",
       "      <td>0</td>\n",
       "      <td>Lekki</td>\n",
       "    </tr>\n",
       "    <tr>\n",
       "      <th>1</th>\n",
       "      <td>flat / apartment</td>\n",
       "      <td>1300000.0</td>\n",
       "      <td>2</td>\n",
       "      <td>2</td>\n",
       "      <td>3</td>\n",
       "      <td>2</td>\n",
       "      <td>Ajah</td>\n",
       "    </tr>\n",
       "    <tr>\n",
       "      <th>2</th>\n",
       "      <td>detached duplex</td>\n",
       "      <td>20000000.0</td>\n",
       "      <td>5</td>\n",
       "      <td>5</td>\n",
       "      <td>6</td>\n",
       "      <td>3</td>\n",
       "      <td>Lekki</td>\n",
       "    </tr>\n",
       "    <tr>\n",
       "      <th>3</th>\n",
       "      <td>flat / apartment</td>\n",
       "      <td>8500000.0</td>\n",
       "      <td>3</td>\n",
       "      <td>3</td>\n",
       "      <td>3</td>\n",
       "      <td>3</td>\n",
       "      <td>Lekki</td>\n",
       "    </tr>\n",
       "    <tr>\n",
       "      <th>4</th>\n",
       "      <td>flat / apartment</td>\n",
       "      <td>2800000.0</td>\n",
       "      <td>2</td>\n",
       "      <td>2</td>\n",
       "      <td>3</td>\n",
       "      <td>2</td>\n",
       "      <td>Lekki</td>\n",
       "    </tr>\n",
       "    <tr>\n",
       "      <th>...</th>\n",
       "      <td>...</td>\n",
       "      <td>...</td>\n",
       "      <td>...</td>\n",
       "      <td>...</td>\n",
       "      <td>...</td>\n",
       "      <td>...</td>\n",
       "      <td>...</td>\n",
       "    </tr>\n",
       "    <tr>\n",
       "      <th>21589</th>\n",
       "      <td>semi-detached duplex</td>\n",
       "      <td>4000000.0</td>\n",
       "      <td>4</td>\n",
       "      <td>4</td>\n",
       "      <td>5</td>\n",
       "      <td>3</td>\n",
       "      <td>Lekki</td>\n",
       "    </tr>\n",
       "    <tr>\n",
       "      <th>21590</th>\n",
       "      <td>flat / apartment</td>\n",
       "      <td>6000000.0</td>\n",
       "      <td>3</td>\n",
       "      <td>4</td>\n",
       "      <td>4</td>\n",
       "      <td>0</td>\n",
       "      <td>Lekki</td>\n",
       "    </tr>\n",
       "    <tr>\n",
       "      <th>21591</th>\n",
       "      <td>terraced duplex</td>\n",
       "      <td>2200000.0</td>\n",
       "      <td>3</td>\n",
       "      <td>3</td>\n",
       "      <td>4</td>\n",
       "      <td>4</td>\n",
       "      <td>Ajah</td>\n",
       "    </tr>\n",
       "    <tr>\n",
       "      <th>21592</th>\n",
       "      <td>Shop</td>\n",
       "      <td>2500000.0</td>\n",
       "      <td>0</td>\n",
       "      <td>0</td>\n",
       "      <td>1</td>\n",
       "      <td>0</td>\n",
       "      <td>Lekki</td>\n",
       "    </tr>\n",
       "    <tr>\n",
       "      <th>21593</th>\n",
       "      <td>Plaza / complex / mall</td>\n",
       "      <td>3000000.0</td>\n",
       "      <td>0</td>\n",
       "      <td>1</td>\n",
       "      <td>1</td>\n",
       "      <td>8</td>\n",
       "      <td>Lekki</td>\n",
       "    </tr>\n",
       "  </tbody>\n",
       "</table>\n",
       "<p>21594 rows × 7 columns</p>\n",
       "</div>"
      ],
      "text/plain": [
       "                         type       price  bedrooms  bathrooms  toilets  \\\n",
       "0            flat / apartment   3500000.0         3          3        3   \n",
       "1            flat / apartment   1300000.0         2          2        3   \n",
       "2             detached duplex  20000000.0         5          5        6   \n",
       "3            flat / apartment   8500000.0         3          3        3   \n",
       "4            flat / apartment   2800000.0         2          2        3   \n",
       "...                       ...         ...       ...        ...      ...   \n",
       "21589    semi-detached duplex   4000000.0         4          4        5   \n",
       "21590        flat / apartment   6000000.0         3          4        4   \n",
       "21591         terraced duplex   2200000.0         3          3        4   \n",
       "21592                    Shop   2500000.0         0          0        1   \n",
       "21593  Plaza / complex / mall   3000000.0         0          1        1   \n",
       "\n",
       "       parking_spaces location  \n",
       "0                   0    Lekki  \n",
       "1                   2     Ajah  \n",
       "2                   3    Lekki  \n",
       "3                   3    Lekki  \n",
       "4                   2    Lekki  \n",
       "...               ...      ...  \n",
       "21589               3    Lekki  \n",
       "21590               0    Lekki  \n",
       "21591               4     Ajah  \n",
       "21592               0    Lekki  \n",
       "21593               8    Lekki  \n",
       "\n",
       "[21594 rows x 7 columns]"
      ]
     },
     "execution_count": 88,
     "metadata": {},
     "output_type": "execute_result"
    }
   ],
   "source": [
    "extract_df"
   ]
  },
  {
   "cell_type": "markdown",
   "id": "635523aa-5447-4068-a811-c25f3f4ea582",
   "metadata": {},
   "source": [
    "## Splitting the Data"
   ]
  },
  {
   "cell_type": "code",
   "execution_count": 89,
   "id": "445f8941-4374-4f91-bef4-6799b475a8bc",
   "metadata": {},
   "outputs": [],
   "source": [
    "X = extract_df.drop(columns=[\"price\"])\n",
    "y = extract_df[\"price\"]"
   ]
  },
  {
   "cell_type": "code",
   "execution_count": 90,
   "id": "510f387d-03f8-4ffd-afee-5ee78eec4a74",
   "metadata": {},
   "outputs": [
    {
     "data": {
      "text/html": [
       "<div>\n",
       "<style scoped>\n",
       "    .dataframe tbody tr th:only-of-type {\n",
       "        vertical-align: middle;\n",
       "    }\n",
       "\n",
       "    .dataframe tbody tr th {\n",
       "        vertical-align: top;\n",
       "    }\n",
       "\n",
       "    .dataframe thead th {\n",
       "        text-align: right;\n",
       "    }\n",
       "</style>\n",
       "<table border=\"1\" class=\"dataframe\">\n",
       "  <thead>\n",
       "    <tr style=\"text-align: right;\">\n",
       "      <th></th>\n",
       "      <th>type</th>\n",
       "      <th>bedrooms</th>\n",
       "      <th>bathrooms</th>\n",
       "      <th>toilets</th>\n",
       "      <th>parking_spaces</th>\n",
       "      <th>location</th>\n",
       "    </tr>\n",
       "  </thead>\n",
       "  <tbody>\n",
       "    <tr>\n",
       "      <th>0</th>\n",
       "      <td>flat / apartment</td>\n",
       "      <td>3</td>\n",
       "      <td>3</td>\n",
       "      <td>3</td>\n",
       "      <td>0</td>\n",
       "      <td>Lekki</td>\n",
       "    </tr>\n",
       "    <tr>\n",
       "      <th>1</th>\n",
       "      <td>flat / apartment</td>\n",
       "      <td>2</td>\n",
       "      <td>2</td>\n",
       "      <td>3</td>\n",
       "      <td>2</td>\n",
       "      <td>Ajah</td>\n",
       "    </tr>\n",
       "    <tr>\n",
       "      <th>2</th>\n",
       "      <td>detached duplex</td>\n",
       "      <td>5</td>\n",
       "      <td>5</td>\n",
       "      <td>6</td>\n",
       "      <td>3</td>\n",
       "      <td>Lekki</td>\n",
       "    </tr>\n",
       "    <tr>\n",
       "      <th>3</th>\n",
       "      <td>flat / apartment</td>\n",
       "      <td>3</td>\n",
       "      <td>3</td>\n",
       "      <td>3</td>\n",
       "      <td>3</td>\n",
       "      <td>Lekki</td>\n",
       "    </tr>\n",
       "    <tr>\n",
       "      <th>4</th>\n",
       "      <td>flat / apartment</td>\n",
       "      <td>2</td>\n",
       "      <td>2</td>\n",
       "      <td>3</td>\n",
       "      <td>2</td>\n",
       "      <td>Lekki</td>\n",
       "    </tr>\n",
       "  </tbody>\n",
       "</table>\n",
       "</div>"
      ],
      "text/plain": [
       "               type  bedrooms  bathrooms  toilets  parking_spaces location\n",
       "0  flat / apartment         3          3        3               0    Lekki\n",
       "1  flat / apartment         2          2        3               2     Ajah\n",
       "2   detached duplex         5          5        6               3    Lekki\n",
       "3  flat / apartment         3          3        3               3    Lekki\n",
       "4  flat / apartment         2          2        3               2    Lekki"
      ]
     },
     "execution_count": 90,
     "metadata": {},
     "output_type": "execute_result"
    }
   ],
   "source": [
    "# Labels\n",
    "X.head()"
   ]
  },
  {
   "cell_type": "code",
   "execution_count": 91,
   "id": "44181350-9c71-4001-b548-203f6726f666",
   "metadata": {},
   "outputs": [
    {
     "data": {
      "text/plain": [
       "(21594, 6)"
      ]
     },
     "execution_count": 91,
     "metadata": {},
     "output_type": "execute_result"
    }
   ],
   "source": [
    "X.shape"
   ]
  },
  {
   "cell_type": "code",
   "execution_count": 92,
   "id": "c56ab584-5899-4bce-b6dc-4eafc017b2ac",
   "metadata": {},
   "outputs": [
    {
     "data": {
      "text/plain": [
       "0     3500000.0\n",
       "1     1300000.0\n",
       "2    20000000.0\n",
       "3     8500000.0\n",
       "4     2800000.0\n",
       "Name: price, dtype: float64"
      ]
     },
     "execution_count": 92,
     "metadata": {},
     "output_type": "execute_result"
    }
   ],
   "source": [
    "# Target\n",
    "y.head()"
   ]
  },
  {
   "cell_type": "code",
   "execution_count": 93,
   "id": "75af66bb-c706-4f7a-9604-02b8b882bc95",
   "metadata": {},
   "outputs": [
    {
     "data": {
      "text/plain": [
       "(21594,)"
      ]
     },
     "execution_count": 93,
     "metadata": {},
     "output_type": "execute_result"
    }
   ],
   "source": [
    "y.shape"
   ]
  },
  {
   "cell_type": "markdown",
   "id": "c5a62c3a-af92-4ee2-bd54-eef4894111fd",
   "metadata": {},
   "source": [
    "## Split Data into Train and Test"
   ]
  },
  {
   "cell_type": "code",
   "execution_count": 94,
   "id": "5dd12e3c-1f5f-4352-bc52-2794dda0c954",
   "metadata": {},
   "outputs": [],
   "source": [
    "X_train, X_test, y_train, y_test = train_test_split(X, y, test_size=0.2, random_state=1)"
   ]
  },
  {
   "cell_type": "code",
   "execution_count": 95,
   "id": "9b9e0f32-ec7f-42b4-b464-36c398125c36",
   "metadata": {},
   "outputs": [
    {
     "data": {
      "text/plain": [
       "(17275, 6)"
      ]
     },
     "execution_count": 95,
     "metadata": {},
     "output_type": "execute_result"
    }
   ],
   "source": [
    "X_train.shape"
   ]
  },
  {
   "cell_type": "code",
   "execution_count": 96,
   "id": "6aedf481-3e16-45b7-92b1-69846d874c62",
   "metadata": {},
   "outputs": [
    {
     "data": {
      "text/plain": [
       "(4319, 6)"
      ]
     },
     "execution_count": 96,
     "metadata": {},
     "output_type": "execute_result"
    }
   ],
   "source": [
    "X_test.shape"
   ]
  },
  {
   "cell_type": "code",
   "execution_count": 97,
   "id": "ff3a9b29-bafb-47dd-b0ad-373e13f38a6a",
   "metadata": {},
   "outputs": [
    {
     "data": {
      "text/plain": [
       "(17275,)"
      ]
     },
     "execution_count": 97,
     "metadata": {},
     "output_type": "execute_result"
    }
   ],
   "source": [
    "y_train.shape"
   ]
  },
  {
   "cell_type": "code",
   "execution_count": 98,
   "id": "84c3e18c-532c-4ee4-8318-d6b814bd30a4",
   "metadata": {},
   "outputs": [
    {
     "data": {
      "text/plain": [
       "(4319,)"
      ]
     },
     "execution_count": 98,
     "metadata": {},
     "output_type": "execute_result"
    }
   ],
   "source": [
    "y_test.shape"
   ]
  },
  {
   "cell_type": "markdown",
   "id": "19d4f5f7-852f-4ca5-a71d-42fc064a1cb7",
   "metadata": {},
   "source": [
    "## One Hot Encoding and Standard Scaling"
   ]
  },
  {
   "cell_type": "code",
   "execution_count": 99,
   "id": "8fcd221d",
   "metadata": {},
   "outputs": [],
   "source": [
    "numeric_columns = [\"bedrooms\", \"bathrooms\", \"toilets\", \"parking_spaces\"]\n",
    "cat_columns = [\"type\", \"location\"]"
   ]
  },
  {
   "cell_type": "code",
   "execution_count": 100,
   "id": "8244dedf-a217-4c80-8064-8e9b8680c3c9",
   "metadata": {},
   "outputs": [],
   "source": [
    "# Create the column transformer\n",
    "processor = ColumnTransformer(\n",
    "    transformers=[\n",
    "        (\"num\", StandardScaler(), numeric_columns),\n",
    "        (\"cat\", OneHotEncoder(handle_unknown=\"ignore\"), cat_columns)\n",
    "    ]\n",
    ")"
   ]
  },
  {
   "cell_type": "markdown",
   "id": "542aacd9-3268-495a-b7ca-ea2b5ac1b8df",
   "metadata": {},
   "source": [
    "## Linear Regression Model"
   ]
  },
  {
   "cell_type": "code",
   "execution_count": 101,
   "id": "a06a37c0-1af0-4cfc-b42c-6f654084f929",
   "metadata": {},
   "outputs": [
    {
     "name": "stdout",
     "output_type": "stream",
     "text": [
      "R-squared Score: 0.6426125929827127\n"
     ]
    }
   ],
   "source": [
    "# create the pipeline with column transformer and scaler\n",
    "# Define the pipeline including the scaler\n",
    "lreg_pipeline = Pipeline(steps=[\n",
    "    ('preprocessor', processor),\n",
    "    ('model', LinearRegression())\n",
    "])\n",
    "\n",
    "# fit the pipeline on the training data\n",
    "lreg_pipeline.fit(X_train, y_train)\n",
    "\n",
    "# make predictions on the test data\n",
    "y_pred = lreg_pipeline.predict(X_test)\n",
    "\n",
    "# calculate the evaluation between the actual value and predicted value\n",
    "accuracy_score = r2_score(y_test, y_pred)\n",
    "\n",
    "# print the evaluation metrics\n",
    "print(f\"R-squared Score: {accuracy_score}\")\n"
   ]
  },
  {
   "cell_type": "markdown",
   "id": "619e87ff-6eb0-4310-942e-b5bb8353fcd0",
   "metadata": {},
   "source": [
    "## Lasso Regression Model"
   ]
  },
  {
   "cell_type": "code",
   "execution_count": 102,
   "id": "1a0fa49a-84bc-445d-b4cd-c5cbe311a650",
   "metadata": {},
   "outputs": [
    {
     "name": "stdout",
     "output_type": "stream",
     "text": [
      "R-squared Score: 0.6427267951125202\n"
     ]
    },
    {
     "name": "stderr",
     "output_type": "stream",
     "text": [
      "/opt/anaconda3/lib/python3.11/site-packages/sklearn/linear_model/_coordinate_descent.py:658: ConvergenceWarning: Objective did not converge. You might want to increase the number of iterations. Duality gap: 1.6799135500110163e+17, tolerance: 115029441033319.02\n",
      "  model = cd_fast.sparse_enet_coordinate_descent(\n"
     ]
    }
   ],
   "source": [
    "# create the pipeline with column transformer and scaler\n",
    "# Define the pipeline including the scaler\n",
    "lasso_pipeline = Pipeline(steps=[\n",
    "    ('preprocessor', processor),\n",
    "    ('model', Lasso())\n",
    "])\n",
    "\n",
    "# fit the pipeline on the training data\n",
    "lasso_pipeline.fit(X_train, y_train)\n",
    "\n",
    "# make predictions on the test data\n",
    "y_pred = lasso_pipeline.predict(X_test)\n",
    "\n",
    "# calculate the evaluation between the actual value and predicted value\n",
    "accuracy_score = r2_score(y_test, y_pred)\n",
    "\n",
    "# print the evaluation metrics\n",
    "print(f\"R-squared Score: {accuracy_score}\")\n"
   ]
  },
  {
   "cell_type": "markdown",
   "id": "38f9f765-93b4-4d29-a8af-c224a530b6d6",
   "metadata": {},
   "source": [
    "## Ridged Regression Model"
   ]
  },
  {
   "cell_type": "code",
   "execution_count": 103,
   "id": "683e5f56-7875-4011-b3e3-671828adf805",
   "metadata": {},
   "outputs": [
    {
     "name": "stdout",
     "output_type": "stream",
     "text": [
      "R-squared Score: 0.643263488734885\n"
     ]
    }
   ],
   "source": [
    "# create the pipeline with column transformer and scaler\n",
    "# Define the pipeline including the scaler\n",
    "ridged_pipeline = Pipeline(steps=[\n",
    "    ('preprocessor', processor),\n",
    "    ('model', Ridge())\n",
    "])\n",
    "\n",
    "# fit the pipeline on the training data\n",
    "ridged_pipeline.fit(X_train, y_train)\n",
    "\n",
    "# make predictions on the test data\n",
    "y_pred = ridged_pipeline.predict(X_test)\n",
    "\n",
    "# calculate the evaluation between the actual value and predicted value\n",
    "accuracy_score = r2_score(y_test, y_pred)\n",
    "\n",
    "# print the evaluation metrics\n",
    "print(f\"R-squared Score: {accuracy_score}\")\n"
   ]
  },
  {
   "cell_type": "markdown",
   "id": "4e435313-90b4-42c4-8615-34d00faaa1ad",
   "metadata": {},
   "source": [
    "## GradientBoostingRegressor Model"
   ]
  },
  {
   "cell_type": "code",
   "execution_count": 104,
   "id": "45f3ddb1-fce5-4487-9ee0-69fb45d9bb3f",
   "metadata": {},
   "outputs": [
    {
     "name": "stdout",
     "output_type": "stream",
     "text": [
      "R-squared Score: 0.6708040665394854\n"
     ]
    }
   ],
   "source": [
    "# create the pipeline with column transformer and scaler\n",
    "# Define the pipeline including the scaler\n",
    "gbr_pipeline = Pipeline(steps=[\n",
    "    ('preprocessor', processor),\n",
    "    ('model', GradientBoostingRegressor())\n",
    "])\n",
    "\n",
    "# fit the pipeline on the training data\n",
    "gbr_pipeline.fit(X_train, y_train)\n",
    "\n",
    "# make predictions on the test data\n",
    "y_pred = gbr_pipeline.predict(X_test)\n",
    "\n",
    "# calculate the evaluation between the actual value and predicted value\n",
    "accuracy_score = r2_score(y_test, y_pred)\n",
    "\n",
    "# print the evaluation metrics\n",
    "print(f\"R-squared Score: {accuracy_score}\")\n"
   ]
  },
  {
   "cell_type": "markdown",
   "id": "b0ecbbb4-9c7f-4d3d-8c9a-a8fcde63ecd8",
   "metadata": {},
   "source": [
    "## RandomForestRegressor Model"
   ]
  },
  {
   "cell_type": "code",
   "execution_count": 105,
   "id": "dd79587b-ac20-4b9e-8253-f2f0675c8513",
   "metadata": {},
   "outputs": [
    {
     "name": "stdout",
     "output_type": "stream",
     "text": [
      "R-squared Score: 0.656435723473666\n"
     ]
    }
   ],
   "source": [
    "# create the pipeline with column transformer and scaler\n",
    "# Define the pipeline including the scaler\n",
    "random_pipeline = Pipeline(steps=[\n",
    "    ('preprocessor', processor),\n",
    "    ('model', RandomForestRegressor())\n",
    "])\n",
    "\n",
    "# fit the pipeline on the training data\n",
    "random_pipeline.fit(X_train, y_train)\n",
    "\n",
    "# make predictions on the test data\n",
    "y_pred = random_pipeline.predict(X_test)\n",
    "\n",
    "# calculate the evaluation between the actual value and predicted value\n",
    "accuracy_score = r2_score(y_test, y_pred)\n",
    "\n",
    "# print the evaluation metrics\n",
    "print(f\"R-squared Score: {accuracy_score}\")\n"
   ]
  },
  {
   "cell_type": "markdown",
   "id": "6e9b4533-2b28-485d-816e-7e451bc009d5",
   "metadata": {},
   "source": [
    "## DecisionTreeRegressor Model"
   ]
  },
  {
   "cell_type": "code",
   "execution_count": 106,
   "id": "ed2151ee-8375-4198-a797-e2c2bdc9d8e6",
   "metadata": {},
   "outputs": [
    {
     "name": "stdout",
     "output_type": "stream",
     "text": [
      "R-squared Score: 0.6164219002390383\n"
     ]
    }
   ],
   "source": [
    "# create the pipeline with column transformer and scaler\n",
    "# Define the pipeline including the scaler\n",
    "dtree_pipeline = Pipeline(steps=[\n",
    "    ('preprocessor', processor),\n",
    "    ('model', DecisionTreeRegressor())\n",
    "])\n",
    "\n",
    "# fit the pipeline on the training data\n",
    "dtree_pipeline.fit(X_train, y_train)\n",
    "\n",
    "# make predictions on the test data\n",
    "y_pred = dtree_pipeline.predict(X_test)\n",
    "\n",
    "# calculate the evaluation between the actual value and predicted value\n",
    "accuracy_score = r2_score(y_test, y_pred)\n",
    "\n",
    "# print the evaluation metrics\n",
    "print(f\"R-squared Score: {accuracy_score}\")\n"
   ]
  },
  {
   "cell_type": "markdown",
   "id": "5a7094da-119c-49ef-9301-82645f1b2e8f",
   "metadata": {},
   "source": [
    "## XGBRegressor Model"
   ]
  },
  {
   "cell_type": "code",
   "execution_count": 107,
   "id": "51e58ee4-0f93-48be-a177-424ab67f3cf2",
   "metadata": {},
   "outputs": [
    {
     "name": "stdout",
     "output_type": "stream",
     "text": [
      "R-squared Score: 0.6827381184705767\n"
     ]
    }
   ],
   "source": [
    "# create the pipeline with column transformer and scaler\n",
    "# Define the pipeline including the scaler\n",
    "\n",
    "xgb_pipeline = Pipeline(steps=[\n",
    "    ('preprocessor', processor),\n",
    "    ('model', XGBRegressor())\n",
    "])\n",
    "\n",
    "# fit the pipeline on the training data\n",
    "xgb_pipeline.fit(X_train, y_train)\n",
    "\n",
    "# make predictions on the test data\n",
    "y_pred = xgb_pipeline.predict(X_test)\n",
    "\n",
    "# calculate the evaluation between the actual value and predicted value\n",
    "accuracy_score = r2_score(y_test, y_pred)\n",
    "\n",
    "# print the evaluation metrics\n",
    "print(f\"R-squared Score: {accuracy_score}\")\n"
   ]
  },
  {
   "cell_type": "markdown",
   "id": "8f346263-c51a-45e2-9078-084d8f5b3edb",
   "metadata": {},
   "source": [
    "# Save Model"
   ]
  },
  {
   "cell_type": "code",
   "execution_count": 108,
   "id": "64765a02-3ef5-4678-87e0-104cd87cdb4b",
   "metadata": {},
   "outputs": [
    {
     "data": {
      "text/plain": [
       "['../model/housing_pipeline.pkl']"
      ]
     },
     "execution_count": 108,
     "metadata": {},
     "output_type": "execute_result"
    }
   ],
   "source": [
    "# Save the model to a file\n",
    "joblib.dump(xgb_pipeline, '../model/housing_pipeline.pkl')\n"
   ]
  },
  {
   "cell_type": "markdown",
   "id": "bbf21045-946d-45c6-b220-78453660e5cf",
   "metadata": {},
   "source": [
    "## Thank you"
   ]
  },
  {
   "cell_type": "code",
   "execution_count": 109,
   "id": "a92ea6ef",
   "metadata": {},
   "outputs": [
    {
     "data": {
      "text/html": [
       "<div>\n",
       "<style scoped>\n",
       "    .dataframe tbody tr th:only-of-type {\n",
       "        vertical-align: middle;\n",
       "    }\n",
       "\n",
       "    .dataframe tbody tr th {\n",
       "        vertical-align: top;\n",
       "    }\n",
       "\n",
       "    .dataframe thead th {\n",
       "        text-align: right;\n",
       "    }\n",
       "</style>\n",
       "<table border=\"1\" class=\"dataframe\">\n",
       "  <thead>\n",
       "    <tr style=\"text-align: right;\">\n",
       "      <th></th>\n",
       "      <th>bedrooms</th>\n",
       "      <th>bathrooms</th>\n",
       "      <th>parking_spaces</th>\n",
       "      <th>location</th>\n",
       "      <th>toilets</th>\n",
       "      <th>type</th>\n",
       "    </tr>\n",
       "  </thead>\n",
       "  <tbody>\n",
       "    <tr>\n",
       "      <th>0</th>\n",
       "      <td>2</td>\n",
       "      <td>3</td>\n",
       "      <td>1</td>\n",
       "      <td>Lekki</td>\n",
       "      <td>4</td>\n",
       "      <td>detached duplex</td>\n",
       "    </tr>\n",
       "  </tbody>\n",
       "</table>\n",
       "</div>"
      ],
      "text/plain": [
       "   bedrooms  bathrooms  parking_spaces location  toilets             type\n",
       "0         2          3               1    Lekki        4  detached duplex"
      ]
     },
     "execution_count": 109,
     "metadata": {},
     "output_type": "execute_result"
    }
   ],
   "source": [
    "# Lets test\n",
    "\n",
    "import joblib\n",
    "import pandas as pd\n",
    "\n",
    "loaded_pipeline = joblib.load(\"../model/housing_pipeline.pkl\")\n",
    "\n",
    "# type\tbedrooms\tbathrooms\ttoilets\tparking_spaces\tlocatio\n",
    "test_data = {\n",
    "    \"bedrooms\": [2],\n",
    "    \"bathrooms\": [3],\n",
    "    \"parking_spaces\": [1],\n",
    "    \"location\": [\"Lekki\"],\n",
    "    \"toilets\": [4],\n",
    "    \"type\": [\"detached duplex\"]\n",
    "}\n",
    "\n",
    "data_df = pd.DataFrame.from_dict(test_data)\n",
    "data_df"
   ]
  },
  {
   "cell_type": "code",
   "execution_count": 110,
   "id": "28efeac5",
   "metadata": {},
   "outputs": [
    {
     "name": "stdout",
     "output_type": "stream",
     "text": [
      "[6933440.5]\n"
     ]
    }
   ],
   "source": [
    "predictions = loaded_pipeline.predict(data_df)\n",
    "print(predictions)"
   ]
  },
  {
   "cell_type": "code",
   "execution_count": null,
   "id": "395daa79",
   "metadata": {},
   "outputs": [],
   "source": []
  }
 ],
 "metadata": {
  "kernelspec": {
   "display_name": "Python 3 (ipykernel)",
   "language": "python",
   "name": "python3"
  },
  "language_info": {
   "codemirror_mode": {
    "name": "ipython",
    "version": 3
   },
   "file_extension": ".py",
   "mimetype": "text/x-python",
   "name": "python",
   "nbconvert_exporter": "python",
   "pygments_lexer": "ipython3",
   "version": "3.11.7"
  }
 },
 "nbformat": 4,
 "nbformat_minor": 5
}
